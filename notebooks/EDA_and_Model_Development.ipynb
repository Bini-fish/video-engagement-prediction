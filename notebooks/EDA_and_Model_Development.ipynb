{
 "cells": [
  {
   "cell_type": "code",
   "execution_count": 1,
   "metadata": {},
   "outputs": [
    {
     "ename": "ModuleNotFoundError",
     "evalue": "No module named 'src'",
     "output_type": "error",
     "traceback": [
      "\u001b[1;31m---------------------------------------------------------------------------\u001b[0m",
      "\u001b[1;31mModuleNotFoundError\u001b[0m                       Traceback (most recent call last)",
      "Cell \u001b[1;32mIn[1], line 1\u001b[0m\n\u001b[1;32m----> 1\u001b[0m \u001b[38;5;28;01mfrom\u001b[39;00m \u001b[38;5;21;01msrc\u001b[39;00m\u001b[38;5;21;01m.\u001b[39;00m\u001b[38;5;21;01mengagement_model\u001b[39;00m \u001b[38;5;28;01mimport\u001b[39;00m engagement_model\n\u001b[0;32m      2\u001b[0m \u001b[38;5;28;01mfrom\u001b[39;00m \u001b[38;5;21;01msrc\u001b[39;00m\u001b[38;5;21;01m.\u001b[39;00m\u001b[38;5;21;01mvisualization\u001b[39;00m \u001b[38;5;28;01mimport\u001b[39;00m visualize_model_performance, plot_auc_bar_chart\n",
      "\u001b[1;31mModuleNotFoundError\u001b[0m: No module named 'src'"
     ]
    }
   ],
   "source": [
    "from src.engagement_model import engagement_model\n",
    "from src.visualization import visualize_model_performance, plot_auc_bar_chart"
   ]
  },
  {
   "cell_type": "code",
   "execution_count": null,
   "id": "22d23973",
   "metadata": {},
   "outputs": [],
   "source": [
    "# Train models and get results\n",
    "results, model_auc_scores, best_model, X_train_scaled, y_train = engagement_model()"
   ]
  },
  {
   "cell_type": "code",
   "execution_count": null,
   "id": "b6da1aca",
   "metadata": {},
   "outputs": [],
   "source": [
    "# Visualize model performance\n",
    "plot_auc_bar_chart(model_auc_scores)"
   ]
  },
  {
   "cell_type": "code",
   "execution_count": null,
   "id": "f5eecfb7",
   "metadata": {},
   "outputs": [],
   "source": [
    "# Visualize ROC curves for comparison\n",
    "trained_models = {name: best_model for name in model_auc_scores.keys()}\n",
    "visualize_model_performance(trained_models, X_train_scaled, y_train)"
   ]
  }
 ],
 "metadata": {
  "kernelspec": {
   "display_name": "base",
   "language": "python",
   "name": "python3"
  },
  "language_info": {
   "codemirror_mode": {
    "name": "ipython",
    "version": 3
   },
   "file_extension": ".py",
   "mimetype": "text/x-python",
   "name": "python",
   "nbconvert_exporter": "python",
   "pygments_lexer": "ipython3",
   "version": "3.11.4"
  }
 },
 "nbformat": 4,
 "nbformat_minor": 5
}
